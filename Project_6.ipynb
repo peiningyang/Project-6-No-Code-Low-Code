{
  "nbformat": 4,
  "nbformat_minor": 0,
  "metadata": {
    "colab": {
      "name": "Project-6.ipynb",
      "provenance": [],
      "authorship_tag": "ABX9TyM9BONfsecuKwsADxqGFA5t",
      "include_colab_link": true
    },
    "kernelspec": {
      "name": "python3",
      "display_name": "Python 3"
    },
    "language_info": {
      "name": "python"
    }
  },
  "cells": [
    {
      "cell_type": "markdown",
      "metadata": {
        "id": "view-in-github",
        "colab_type": "text"
      },
      "source": [
        "<a href=\"https://colab.research.google.com/github/peiningyang/Project-6-No-Code-Low-Code/blob/main/Project_6.ipynb\" target=\"_parent\"><img src=\"https://colab.research.google.com/assets/colab-badge.svg\" alt=\"Open In Colab\"/></a>"
      ]
    },
    {
      "cell_type": "code",
      "metadata": {
        "id": "BfzHH_Ny2B_z"
      },
      "source": [
        ""
      ],
      "execution_count": null,
      "outputs": []
    },
    {
      "cell_type": "markdown",
      "metadata": {
        "id": "96kpl1192KG-"
      },
      "source": [
        "## Ingest Data\n",
        "This will download the entire script of the TV show *Friends*. "
      ]
    },
    {
      "cell_type": "code",
      "metadata": {
        "colab": {
          "base_uri": "https://localhost:8080/"
        },
        "id": "3SasMjF62M-3",
        "outputId": "4a5992b9-95a9-4bdf-ca36-075db6af3f8a"
      },
      "source": [
        "!wget https://raw.githubusercontent.com/peiningyang/Project-6-No-Code-Low-Code/main/friends.txt"
      ],
      "execution_count": 1,
      "outputs": [
        {
          "output_type": "stream",
          "name": "stdout",
          "text": [
            "--2021-09-21 00:56:05--  https://raw.githubusercontent.com/peiningyang/Project-6-No-Code-Low-Code/main/friends.txt\n",
            "Resolving raw.githubusercontent.com (raw.githubusercontent.com)... 185.199.109.133, 185.199.108.133, 185.199.110.133, ...\n",
            "Connecting to raw.githubusercontent.com (raw.githubusercontent.com)|185.199.109.133|:443... connected.\n",
            "HTTP request sent, awaiting response... 200 OK\n",
            "Length: 4899189 (4.7M) [text/plain]\n",
            "Saving to: ‘friends.txt’\n",
            "\n",
            "friends.txt         100%[===================>]   4.67M  --.-KB/s    in 0.09s   \n",
            "\n",
            "2021-09-21 00:56:06 (49.3 MB/s) - ‘friends.txt’ saved [4899189/4899189]\n",
            "\n"
          ]
        }
      ]
    },
    {
      "cell_type": "code",
      "metadata": {
        "colab": {
          "base_uri": "https://localhost:8080/"
        },
        "id": "eng4uPLF2jec",
        "outputId": "1f0bc967-47d6-4191-f552-5e80c0fdbc5f"
      },
      "source": [
        "!head friends.txt"
      ],
      "execution_count": 2,
      "outputs": [
        {
          "output_type": "stream",
          "name": "stdout",
          "text": [
            "THE ONE WHERE MONICA GETS A NEW ROOMATE (THE PILOT-THE UNCUT VERSION)\n",
            "Written by: Marta Kauffman & David Crane\n",
            "[Scene: Central Perk, Chandler, Joey, Phoebe, and Monica are there.]\n",
            "Monica: There's nothing to tell! He's just some guy I work with!\n",
            "Joey: C'mon, you're going out with the guy! There's gotta be something wrong with him!\n",
            "Chandler: All right Joey, be nice. So does he have a hump? A hump and a hairpiece?\n",
            "Phoebe: Wait, does he eat chalk?\n",
            "(They all stare, bemused.)\n",
            "Phoebe: Just, 'cause, I don't want her to go through what I went through with Carl- oh!\n",
            "Monica: Okay, everybody relax. This is not even a date. It's just two people going out to dinner and- not having sex.\n"
          ]
        }
      ]
    },
    {
      "cell_type": "code",
      "metadata": {
        "id": "hx2kWZEr2rEQ"
      },
      "source": [
        ""
      ],
      "execution_count": null,
      "outputs": []
    }
  ]
}